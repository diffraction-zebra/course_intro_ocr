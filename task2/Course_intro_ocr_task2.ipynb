{
 "cells": [
  {
   "cell_type": "markdown",
   "source": [
    "# Environment\n",
    "## Обучал локально, но в коллабе запуститься."
   ],
   "metadata": {
    "id": "KW8AxQTSa4Bu"
   },
   "id": "KW8AxQTSa4Bu"
  },
  {
   "cell_type": "code",
   "source": [
    "!nvidia-smi -L"
   ],
   "metadata": {
    "colab": {
     "base_uri": "https://localhost:8080/"
    },
    "id": "9aCvq5hCbefn",
    "outputId": "c0b98b21-85db-4e72-8ce7-fa2a7f8ffb04",
    "is_executing": true
   },
   "id": "9aCvq5hCbefn",
   "execution_count": null,
   "outputs": []
  },
  {
   "cell_type": "code",
   "execution_count": null,
   "id": "MvxG7ySEj6YZ",
   "metadata": {
    "colab": {
     "base_uri": "https://localhost:8080/"
    },
    "id": "MvxG7ySEj6YZ",
    "outputId": "196b38a8-6822-49a8-b8b0-41ec012d83f1",
    "is_executing": true
   },
   "outputs": [],
   "source": [
    "! pip install gdown lmdb opencv-python matplotlib torch tqdm"
   ]
  },
  {
   "cell_type": "code",
   "source": [
    "import torch\n",
    "import numpy as np\n",
    "\n",
    "torch.manual_seed(42)\n",
    "np.random.seed(42)"
   ],
   "metadata": {
    "id": "lHA69YqHJkYI"
   },
   "id": "lHA69YqHJkYI",
   "execution_count": null,
   "outputs": []
  },
  {
   "cell_type": "markdown",
   "source": [
    "# Dataset\n"
   ],
   "metadata": {
    "id": "_A7Qv69BaXAt"
   },
   "id": "_A7Qv69BaXAt"
  },
  {
   "cell_type": "markdown",
   "source": [
    "Ссылка на датасет на моем гугл-диске (если слишком часто скачивать, на день заблокируется)"
   ],
   "metadata": {
    "id": "K0nXWzBGd1g-"
   },
   "id": "K0nXWzBGd1g-"
  },
  {
   "cell_type": "code",
   "source": [
    "! gdown https://drive.google.com/file/d/13vtpN31r2imMIDhHt2lhksXhRgsKJhRr/view?usp=drive_link --fuzzy"
   ],
   "metadata": {
    "colab": {
     "base_uri": "https://localhost:8080/"
    },
    "id": "FNxISaLmdofP",
    "outputId": "0c44a540-6577-485b-f0fb-b4bd2cd08739"
   },
   "id": "FNxISaLmdofP",
   "execution_count": null,
   "outputs": [
    {
     "output_type": "stream",
     "name": "stdout",
     "text": [
      "Downloading...\r\n",
      "From (original): https://drive.google.com/uc?id=13vtpN31r2imMIDhHt2lhksXhRgsKJhRr\r\n",
      "From (redirected): https://drive.google.com/uc?id=13vtpN31r2imMIDhHt2lhksXhRgsKJhRr&confirm=t&uuid=22f2b43d-961e-4230-aeb7-2a79f90ff9ff\r\n",
      "To: /root/course_intro_ocr/task2/lmdb.zip\n",
      "100%|███████████████████████████████████████| 10.1G/10.1G [01:16<00:00, 132MB/s]\n"
     ]
    }
   ]
  },
  {
   "cell_type": "code",
   "execution_count": null,
   "id": "I_CkfkMRiGS9",
   "metadata": {
    "colab": {
     "base_uri": "https://localhost:8080/"
    },
    "id": "I_CkfkMRiGS9",
    "outputId": "3a6807fa-9f11-4be3-b4a4-5a46925d0dbf"
   },
   "outputs": [
    {
     "output_type": "stream",
     "name": "stdout",
     "text": [
      "Reading package lists... Done\n",
      "Building dependency tree... Done\n",
      "Reading state information... Done\n",
      "Suggested packages:\n",
      "  zip\n",
      "The following NEW packages will be installed:\n",
      "  unzip\n",
      "0 upgraded, 1 newly installed, 0 to remove and 21 not upgraded.\n",
      "Need to get 175 kB of archives.\n",
      "After this operation, 386 kB of additional disk space will be used.\n",
      "Get:1 http://archive.ubuntu.com/ubuntu jammy-updates/main amd64 unzip amd64 6.0-26ubuntu3.2 [175 kB]\n",
      "Fetched 175 kB in 0s (1058 kB/s)\n",
      "debconf: delaying package configuration, since apt-utils is not installed\n",
      "Selecting previously unselected package unzip.\n",
      "(Reading database ... 17282 files and directories currently installed.)\n",
      "Preparing to unpack .../unzip_6.0-26ubuntu3.2_amd64.deb ...\n",
      "Unpacking unzip (6.0-26ubuntu3.2) ...\n",
      "Setting up unzip (6.0-26ubuntu3.2) ...\n",
      "Archive:  lmdb.zip\n",
      "  inflating: lmdb_unzip/lmdb/test.lmdb  \n",
      "  inflating: lmdb_unzip/lmdb/train.lmdb  \n"
     ]
    }
   ],
   "source": [
    "#! apt-get install unzip\n",
    "! unzip 'lmdb.zip' -d 'lmdb_unzip'"
   ]
  },
  {
   "cell_type": "code",
   "source": [
    "import lmdb"
   ],
   "metadata": {
    "id": "H0aqpSuVvhrh"
   },
   "id": "H0aqpSuVvhrh",
   "execution_count": 2,
   "outputs": []
  },
  {
   "cell_type": "code",
   "execution_count": 3,
   "id": "9f37abdd",
   "metadata": {
    "id": "9f37abdd"
   },
   "outputs": [],
   "source": [
    "import os\n",
    "\n",
    "from data_reader import Vocabulary, HWDBDatasetHelper, LMDBReader\n",
    "\n",
    "root = \"lmdb_unzip/lmdb\"\n",
    "train_path = os.path.join(root, 'train.lmdb')\n",
    "test_path = os.path.join(root, 'test.lmdb')\n",
    "gt_path = './gt.txt'"
   ]
  },
  {
   "cell_type": "code",
   "execution_count": 4,
   "id": "73d8b167",
   "metadata": {
    "id": "73d8b167"
   },
   "outputs": [],
   "source": [
    "import cv2\n",
    "import numpy as np"
   ]
  },
  {
   "cell_type": "code",
   "execution_count": 5,
   "id": "f7f882df",
   "metadata": {
    "id": "f7f882df"
   },
   "outputs": [],
   "source": [
    "train_reader = LMDBReader(train_path)\n",
    "train_reader.open()\n",
    "train_helper = HWDBDatasetHelper(train_reader)"
   ]
  },
  {
   "cell_type": "code",
   "execution_count": 6,
   "id": "35cf8784",
   "metadata": {
    "id": "35cf8784"
   },
   "outputs": [],
   "source": [
    "train_helper, val_helper = train_helper.train_val_split()"
   ]
  },
  {
   "cell_type": "code",
   "execution_count": 7,
   "id": "92eb367e",
   "metadata": {
    "colab": {
     "base_uri": "https://localhost:8080/"
    },
    "id": "92eb367e",
    "outputId": "461fd3fd-eaef-4da2-c254-39cbe1636a56"
   },
   "outputs": [
    {
     "output_type": "execute_result",
     "data": {
      "text/plain": [
       "(2578433, 644609)"
      ]
     },
     "metadata": {},
     "execution_count": 7
    }
   ],
   "source": [
    "train_helper.size(), val_helper.size()"
   ]
  },
  {
   "cell_type": "code",
   "execution_count": 8,
   "id": "a63ffe27-a512-4497-8943-ebb1196eaae1",
   "metadata": {
    "id": "a63ffe27-a512-4497-8943-ebb1196eaae1"
   },
   "outputs": [],
   "source": [
    "img, label = train_helper.get_item(42)"
   ]
  },
  {
   "cell_type": "code",
   "execution_count": 9,
   "id": "814d439f-7602-4bf8-8035-54f0e914921a",
   "metadata": {
    "colab": {
     "base_uri": "https://localhost:8080/",
     "height": 452
    },
    "id": "814d439f-7602-4bf8-8035-54f0e914921a",
    "outputId": "bcbe7cf7-ca6d-452c-9b6b-8ea86d74153b"
   },
   "outputs": [
    {
     "output_type": "execute_result",
     "data": {
      "text/plain": [
       "<matplotlib.image.AxesImage at 0x7fca4a2674c0>"
      ]
     },
     "metadata": {},
     "execution_count": 9
    },
    {
     "output_type": "display_data",
     "data": {
      "text/plain": [
       "<Figure size 640x480 with 1 Axes>"
      ],
      "image/png": "[encoded data removed]"
     },
     "metadata": {}
    }
   ],
   "source": [
    "from matplotlib import pyplot as plt\n",
    "plt.imshow(img, cmap='gray')"
   ]
  },
  {
   "cell_type": "markdown",
   "source": [
    "## Поделаем аугментацию"
   ],
   "metadata": {
    "id": "Qt-NERjjb6CL"
   },
   "id": "Qt-NERjjb6CL"
  },
  {
   "cell_type": "code",
   "source": [
    "resized = (cv2.resize(img, (64, 64)) - 127.5) / 255.\n",
    "gauss = np.random.normal(0,0.15,(64, 64))\n",
    "plt.imshow(resized + gauss, cmap='gray')"
   ],
   "metadata": {
    "colab": {
     "base_uri": "https://localhost:8080/",
     "height": 450
    },
    "id": "X33pmJzGGAQV",
    "outputId": "66d37981-172c-4e2a-8ad0-00d1f2620953"
   },
   "id": "X33pmJzGGAQV",
   "execution_count": 10,
   "outputs": [
    {
     "output_type": "execute_result",
     "data": {
      "text/plain": [
       "<matplotlib.image.AxesImage at 0x7fca4a30d6f0>"
      ]
     },
     "metadata": {},
     "execution_count": 10
    },
    {
     "output_type": "display_data",
     "data": {
      "text/plain": [
       "<Figure size 640x480 with 1 Axes>"
      ],
      "image/png": "[encoded data removed]"
     },
     "metadata": {}
    }
   ]
  },
  {
   "cell_type": "code",
   "source": [
    "image_center = tuple(np.array(resized.shape[1::-1]) / 2)\n",
    "angle = -10\n",
    "rot_mat = cv2.getRotationMatrix2D(image_center, angle, 1.0)\n",
    "result = cv2.warpAffine(resized, rot_mat, resized.shape[1::-1], flags=cv2.INTER_LINEAR)\n",
    "plt.imshow(result, cmap='gray')"
   ],
   "metadata": {
    "colab": {
     "base_uri": "https://localhost:8080/",
     "height": 450
    },
    "id": "DcKHTH1iQhg-",
    "outputId": "63742757-2c77-41cd-d55f-9e5293e68d9d"
   },
   "id": "DcKHTH1iQhg-",
   "execution_count": 11,
   "outputs": [
    {
     "output_type": "execute_result",
     "data": {
      "text/plain": [
       "<matplotlib.image.AxesImage at 0x7fca4a31e4a0>"
      ]
     },
     "metadata": {},
     "execution_count": 11
    },
    {
     "output_type": "display_data",
     "data": {
      "text/plain": [
       "<Figure size 640x480 with 1 Axes>"
      ],
      "image/png": "[encoded data removed]"
     },
     "metadata": {}
    }
   ]
  },
  {
   "cell_type": "markdown",
   "source": [
    "С вероятностью 0.5 к изображению добавляется случайный шум, с вероятностью 0.5 независимо поворот c углом $\\alpha \\sim \\mathbb{U}[-15, 15]$"
   ],
   "metadata": {
    "id": "61p8inMDeMsW"
   },
   "id": "61p8inMDeMsW"
  },
  {
   "cell_type": "code",
   "execution_count": 12,
   "id": "22592d05",
   "metadata": {
    "id": "22592d05"
   },
   "outputs": [],
   "source": [
    "import torch\n",
    "\n",
    "from torch.utils.data import Dataset, DataLoader\n",
    "from torch import nn\n",
    "\n",
    "class HWDBDataset(Dataset):\n",
    "    def __init__(self, helper: HWDBDatasetHelper, augment=False):\n",
    "        self.helper = helper\n",
    "        self.augment = augment\n",
    "\n",
    "    def __len__(self):\n",
    "        return self.helper.size()\n",
    "\n",
    "    def __getitem__(self, idx):\n",
    "        img, label = self.helper.get_item(idx)\n",
    "        reshaped = (cv2.resize(img, (64, 64)) - 127.5) / 255.\n",
    "\n",
    "        if self.augment:\n",
    "          if np.random.randint(2):\n",
    "            noise = np.random.normal(0,0.15,(64, 64))\n",
    "            reshaped += noise\n",
    "          if np.random.randint(2):\n",
    "            image_center = tuple(np.array(reshaped.shape[1::-1]) / 2)\n",
    "            angle = np.random.rand() * 30 - 15 # random from [-15, 15]\n",
    "            rot_mat = cv2.getRotationMatrix2D(image_center, angle, 1.0)\n",
    "            reshaped = cv2.warpAffine(reshaped, rot_mat, reshaped.shape[1::-1], flags=cv2.INTER_LINEAR)\n",
    "\n",
    "        return reshaped, label"
   ]
  },
  {
   "cell_type": "code",
   "execution_count": 13,
   "id": "b9e0c381",
   "metadata": {
    "id": "b9e0c381"
   },
   "outputs": [],
   "source": [
    "train_dataset = HWDBDataset(train_helper, augment=True)\n",
    "val_dataset = HWDBDataset(val_helper, augment=False)"
   ]
  },
  {
   "cell_type": "markdown",
   "id": "2042614e",
   "metadata": {
    "id": "2042614e"
   },
   "source": [
    "# Models\n",
    "\n"
   ]
  },
  {
   "cell_type": "code",
   "execution_count": 14,
   "id": "5c09f520",
   "metadata": {
    "id": "5c09f520"
   },
   "outputs": [],
   "source": [
    "from tqdm import tqdm\n",
    "\n",
    "\n",
    "def run_validation(val_loader: DataLoader, model: nn.Module, n_steps=None):\n",
    "    model.eval()\n",
    "    n_good = 0\n",
    "    n_all = 0\n",
    "    wrapper = lambda x: x\n",
    "    if n_steps is None:\n",
    "        n_steps = len(val_loader)\n",
    "        wrapper = tqdm\n",
    "\n",
    "    with torch.no_grad():\n",
    "        for batch, (X, y) in enumerate(wrapper(val_loader)):\n",
    "            if batch == n_steps:\n",
    "                break\n",
    "            logits = model(X.unsqueeze(1).to(torch.float32).cuda())\n",
    "            classes = torch.argmax(logits, dim=1).cpu().numpy()\n",
    "            n_good += sum(classes == y.cpu().numpy())\n",
    "\n",
    "            n_all += len(classes)\n",
    "\n",
    "    return n_good / n_all\n",
    "\n",
    "\n",
    "def train_epoch(train_loader: DataLoader, val_loader: DataLoader, model: nn.Module, optim, loss_fn):\n",
    "    for batch, (X, y) in enumerate(tqdm(train_loader)):\n",
    "        model.train()\n",
    "        logits = model(X.unsqueeze(1).to(torch.float32).cuda())\n",
    "        loss = loss_fn(logits, y.to(torch.long).cuda())\n",
    "\n",
    "        optim.zero_grad()\n",
    "        loss.backward()\n",
    "        optim.step()"
   ]
  },
  {
   "cell_type": "markdown",
   "source": [
    "## Loss\n"
   ],
   "metadata": {
    "id": "B768MqPE_sbG"
   },
   "id": "B768MqPE_sbG"
  },
  {
   "cell_type": "markdown",
   "source": [
    "Пробовал спользовал ArcFaceLoss. Однако качество моделей сильно проседало. Если стандартная кросс-энтропия давала 80->90+ accuracy, то ArcFace 65->75. Пробовал перебирать парметры AdamW и самого лосса.\n",
    "(Дополнительные нормировки в моделях я убрал)\n",
    "\n",
    "Сама реализация лосса приведена ниже.\n",
    "\n",
    "В реализации, аналогично многим другим, используется стабилизация в виде замены $cos(\\theta + m)$ на $\\cos(\\theta) - m \\sin m$ при больших $\\theta$.  (Это делает лосс убывающим при всех возможных углах)."
   ],
   "metadata": {
    "id": "tOdASBb3NTty"
   },
   "id": "tOdASBb3NTty"
  },
  {
   "cell_type": "code",
   "source": [
    "from losses.arc_face import ArcFaceLoss"
   ],
   "metadata": {
    "id": "nZOQnZIA_1Od"
   },
   "id": "nZOQnZIA_1Od",
   "execution_count": 85,
   "outputs": []
  },
  {
   "cell_type": "code",
   "source": [
    "y_true = torch.tensor([1, 2, 2], dtype=int)\n",
    "y_pred = torch.tensor([[0.5, 0.5, 0.5], [0.5, 0.5, 0.5], [0.5, 0.5, 0.5]])\n",
    "ArcFaceLoss(3)(y_pred, y_true)"
   ],
   "metadata": {
    "colab": {
     "base_uri": "https://localhost:8080/"
    },
    "id": "VU9a0K6ieV04",
    "outputId": "e5c168d3-912b-4427-df35-5ec9dae3be57"
   },
   "id": "VU9a0K6ieV04",
   "execution_count": 86,
   "outputs": [
    {
     "output_type": "execute_result",
     "data": {
      "text/plain": [
       "tensor(31.1830)"
      ]
     },
     "metadata": {},
     "execution_count": 86
    }
   ]
  },
  {
   "cell_type": "markdown",
   "source": [
    "## CNN"
   ],
   "metadata": {
    "id": "yh5Zn2zUasPE"
   },
   "id": "yh5Zn2zUasPE"
  },
  {
   "cell_type": "code",
   "execution_count": 101,
   "id": "7c02cb6e",
   "metadata": {
    "id": "7c02cb6e"
   },
   "outputs": [],
   "source": [
    "from models.cnn import MyCNN"
   ]
  },
  {
   "cell_type": "code",
   "execution_count": 102,
   "id": "c3e80256",
   "metadata": {
    "id": "c3e80256"
   },
   "outputs": [],
   "source": [
    "model = MyCNN(train_helper.vocabulary.num_classes())"
   ]
  },
  {
   "cell_type": "code",
   "execution_count": 103,
   "id": "2f9230bd",
   "metadata": {
    "colab": {
     "base_uri": "https://localhost:8080/"
    },
    "id": "2f9230bd",
    "outputId": "b3e9a38e-2910-451c-99e4-21c8550ab62d"
   },
   "outputs": [
    {
     "output_type": "execute_result",
     "data": {
      "text/plain": [
       "tensor([[ 0.1523, -0.1882,  0.3728,  ..., -0.4210, -0.2909, -0.4697]],\n",
       "       grad_fn=<MmBackward0>)"
      ]
     },
     "metadata": {},
     "execution_count": 103
    }
   ],
   "source": [
    "model.eval()\n",
    "model(torch.tensor(train_dataset[0][0], dtype=torch.float32).view(1, 1, 64, 64))"
   ]
  },
  {
   "cell_type": "code",
   "execution_count": 104,
   "id": "d5fd44e1",
   "metadata": {
    "colab": {
     "base_uri": "https://localhost:8080/",
     "height": 1000
    },
    "id": "d5fd44e1",
    "outputId": "86a66f09-8c5c-4f7c-ac03-e794b0738455"
   },
   "outputs": [
    {
     "output_type": "stream",
     "name": "stdout",
     "text": [
      "Epoch 0:\n"
     ]
    },
    {
     "output_type": "stream",
     "name": "stderr",
     "text": [
      "100%|██████████████████████████████████████████████████████████████████████████████████████████████████████| 5036/5036 [07:38<00:00, 10.99it/s]\n",
      "100%|████████████████████████████████████████████████████████████████████████████████████████████████████████| 315/315 [01:04<00:00,  4.92it/s]\n"
     ]
    },
    {
     "output_type": "stream",
     "name": "stdout",
     "text": [
      "accuracy: 0.8426162216165148\n",
      "Epoch 1:\n"
     ]
    },
    {
     "output_type": "stream",
     "name": "stderr",
     "text": [
      "100%|██████████████████████████████████████████████████████████████████████████████████████████████████████| 5036/5036 [07:15<00:00, 11.56it/s]\n",
      "100%|████████████████████████████████████████████████████████████████████████████████████████████████████████| 315/315 [01:02<00:00,  5.08it/s]\n"
     ]
    },
    {
     "output_type": "stream",
     "name": "stdout",
     "text": [
      "accuracy: 0.8851582897539438\n",
      "Epoch 2:\n"
     ]
    },
    {
     "output_type": "stream",
     "name": "stderr",
     "text": [
      "100%|██████████████████████████████████████████████████████████████████████████████████████████████████████| 5036/5036 [07:19<00:00, 11.46it/s]\n",
      "100%|████████████████████████████████████████████████████████████████████████████████████████████████████████| 315/315 [01:02<00:00,  5.01it/s]\n"
     ]
    },
    {
     "output_type": "stream",
     "name": "stdout",
     "text": [
      "accuracy: 0.8959819053100406\n",
      "Epoch 3:\n"
     ]
    },
    {
     "output_type": "stream",
     "name": "stderr",
     "text": [
      "100%|██████████████████████████████████████████████████████████████████████████████████████████████████████| 5036/5036 [07:13<00:00, 11.61it/s]\n",
      "100%|████████████████████████████████████████████████████████████████████████████████████████████████████████| 315/315 [01:03<00:00,  4.99it/s]\n"
     ]
    },
    {
     "output_type": "stream",
     "name": "stdout",
     "text": [
      "accuracy: 0.9039153967754096\n",
      "Epoch 4:\n"
     ]
    },
    {
     "output_type": "stream",
     "name": "stderr",
     "text": [
      "100%|██████████████████████████████████████████████████████████████████████████████████████████████████████| 5036/5036 [07:21<00:00, 11.42it/s]\n",
      "100%|████████████████████████████████████████████████████████████████████████████████████████████████████████| 315/315 [01:02<00:00,  5.02it/s]\n"
     ]
    },
    {
     "output_type": "stream",
     "name": "stdout",
     "text": [
      "accuracy: 0.9084514798893593\n",
      "Epoch 5:\n"
     ]
    },
    {
     "output_type": "stream",
     "name": "stderr",
     "text": [
      "100%|██████████████████████████████████████████████████████████████████████████████████████████████████████| 5036/5036 [07:15<00:00, 11.56it/s]\n",
      "100%|████████████████████████████████████████████████████████████████████████████████████████████████████████| 315/315 [01:02<00:00,  5.00it/s]\n"
     ]
    },
    {
     "output_type": "stream",
     "name": "stdout",
     "text": [
      "accuracy: 0.9111445853222652\n",
      "Epoch 6:\n"
     ]
    },
    {
     "output_type": "stream",
     "name": "stderr",
     "text": [
      "100%|██████████████████████████████████████████████████████████████████████████████████████████████████████| 5036/5036 [07:15<00:00, 11.57it/s]\n",
      "100%|████████████████████████████████████████████████████████████████████████████████████████████████████████| 315/315 [01:00<00:00,  5.19it/s]\n"
     ]
    },
    {
     "output_type": "stream",
     "name": "stdout",
     "text": [
      "accuracy: 0.9134762313278282\n",
      "Epoch 7:\n"
     ]
    },
    {
     "output_type": "stream",
     "name": "stderr",
     "text": [
      "100%|██████████████████████████████████████████████████████████████████████████████████████████████████████| 5036/5036 [07:27<00:00, 11.26it/s]\n",
      "100%|████████████████████████████████████████████████████████████████████████████████████████████████████████| 315/315 [01:03<00:00,  4.97it/s]\n"
     ]
    },
    {
     "output_type": "stream",
     "name": "stdout",
     "text": [
      "accuracy: 0.9143154997835897\n",
      "Epoch 8:\n"
     ]
    },
    {
     "output_type": "stream",
     "name": "stderr",
     "text": [
      "100%|██████████████████████████████████████████████████████████████████████████████████████████████████████| 5036/5036 [07:20<00:00, 11.44it/s]\n",
      "100%|███████████████████████████████| 315/315 [01:00<00:00,  5.18it/s]\n"
     ]
    },
    {
     "output_type": "stream",
     "name": "stdout",
     "text": [
      "accuracy: 0.9168348564788887\n",
      "Epoch 9:\n"
     ]
    },
    {
     "output_type": "stream",
     "name": "stderr",
     "text": [
      "100%|█████████████████████████████| 5036/5036 [07:17<00:00, 11.50it/s]\n",
      "100%|███████████████████████████████| 315/315 [01:02<00:00,  5.02it/s]\n"
     ]
    },
    {
     "output_type": "stream",
     "name": "stdout",
     "text": [
      "accuracy: 0.9174228097963262\n",
      "Epoch 10:\n"
     ]
    },
    {
     "output_type": "stream",
     "name": "stderr",
     "text": [
      "100%|█████████████████████████████| 5036/5036 [07:13<00:00, 11.62it/s]\n",
      "100%|███████████████████████████████| 315/315 [01:01<00:00,  5.11it/s]\n"
     ]
    },
    {
     "output_type": "stream",
     "name": "stdout",
     "text": [
      "accuracy: 0.9171606353619015\n",
      "Epoch 11:\n"
     ]
    },
    {
     "output_type": "stream",
     "name": "stderr",
     "text": [
      "  6%|█▋                            | 289/5036 [00:28<07:41, 10.29it/s]\n"
     ]
    },
    {
     "output_type": "error",
     "ename": "KeyboardInterrupt",
     "evalue": "",
     "traceback": [
      "\u001B[0;31m---------------------------------------------------------------------------\u001B[0m",
      "\u001B[0;31mKeyboardInterrupt\u001B[0m                         Traceback (most recent call last)",
      "Cell \u001B[0;32mIn[104], line 14\u001B[0m\n\u001B[1;32m     12\u001B[0m \u001B[38;5;28;01mfor\u001B[39;00m epoch \u001B[38;5;129;01min\u001B[39;00m \u001B[38;5;28mrange\u001B[39m(\u001B[38;5;241m20\u001B[39m):\n\u001B[1;32m     13\u001B[0m     \u001B[38;5;28mprint\u001B[39m(\u001B[38;5;124mf\u001B[39m\u001B[38;5;124m'\u001B[39m\u001B[38;5;124mEpoch \u001B[39m\u001B[38;5;132;01m{\u001B[39;00mepoch\u001B[38;5;132;01m}\u001B[39;00m\u001B[38;5;124m:\u001B[39m\u001B[38;5;124m'\u001B[39m)\n\u001B[0;32m---> 14\u001B[0m     \u001B[43mtrain_epoch\u001B[49m\u001B[43m(\u001B[49m\u001B[43mtrain_loader\u001B[49m\u001B[43m,\u001B[49m\u001B[43m \u001B[49m\u001B[43mval_loader\u001B[49m\u001B[43m,\u001B[49m\u001B[43m \u001B[49m\u001B[43mmodel\u001B[49m\u001B[43m,\u001B[49m\u001B[43m \u001B[49m\u001B[43moptim\u001B[49m\u001B[43m,\u001B[49m\u001B[43m \u001B[49m\u001B[43mloss_fn\u001B[49m\u001B[43m)\u001B[49m\n\u001B[1;32m     15\u001B[0m     accuracy \u001B[38;5;241m=\u001B[39m run_validation(val_loader, model)\n\u001B[1;32m     16\u001B[0m     cnn_accuracy\u001B[38;5;241m.\u001B[39mappend(accuracy)\n",
      "Cell \u001B[0;32mIn[14], line 29\u001B[0m, in \u001B[0;36mtrain_epoch\u001B[0;34m(train_loader, val_loader, model, optim, loss_fn)\u001B[0m\n\u001B[1;32m     27\u001B[0m \u001B[38;5;28;01mfor\u001B[39;00m batch, (X, y) \u001B[38;5;129;01min\u001B[39;00m \u001B[38;5;28menumerate\u001B[39m(tqdm(train_loader)):\n\u001B[1;32m     28\u001B[0m     model\u001B[38;5;241m.\u001B[39mtrain()\n\u001B[0;32m---> 29\u001B[0m     logits \u001B[38;5;241m=\u001B[39m model(\u001B[43mX\u001B[49m\u001B[38;5;241;43m.\u001B[39;49m\u001B[43munsqueeze\u001B[49m\u001B[43m(\u001B[49m\u001B[38;5;241;43m1\u001B[39;49m\u001B[43m)\u001B[49m\u001B[38;5;241;43m.\u001B[39;49m\u001B[43mto\u001B[49m\u001B[43m(\u001B[49m\u001B[43mtorch\u001B[49m\u001B[38;5;241;43m.\u001B[39;49m\u001B[43mfloat32\u001B[49m\u001B[43m)\u001B[49m\u001B[38;5;241;43m.\u001B[39;49m\u001B[43mcuda\u001B[49m\u001B[43m(\u001B[49m\u001B[43m)\u001B[49m)\n\u001B[1;32m     30\u001B[0m     loss \u001B[38;5;241m=\u001B[39m loss_fn(logits, y\u001B[38;5;241m.\u001B[39mto(torch\u001B[38;5;241m.\u001B[39mlong)\u001B[38;5;241m.\u001B[39mcuda())\n\u001B[1;32m     32\u001B[0m     optim\u001B[38;5;241m.\u001B[39mzero_grad()\n",
      "\u001B[0;31mKeyboardInterrupt\u001B[0m: "
     ]
    }
   ],
   "source": [
    "train_loader = DataLoader(train_dataset, batch_size=512, shuffle=True, drop_last=True, num_workers=8)\n",
    "val_loader = DataLoader(val_dataset, batch_size=2048, shuffle=False, num_workers=8)\n",
    "\n",
    "model = model.cuda()\n",
    "\n",
    "optim = torch.optim.AdamW(model.parameters(), lr=0.001)\n",
    "loss_fn = nn.CrossEntropyLoss(label_smoothing=0.2)\n",
    "#loss_fn = ArcFaceLoss(train_helper.vocabulary.num_classes())\n",
    "\n",
    "cnn_accuracy = list()\n",
    "\n",
    "for epoch in range(20):\n",
    "    print(f'Epoch {epoch}:')\n",
    "    train_epoch(train_loader, val_loader, model, optim, loss_fn)\n",
    "    accuracy = run_validation(val_loader, model)\n",
    "    cnn_accuracy.append(accuracy)\n",
    "    print(f'accuracy: {accuracy}')\n",
    "    torch.save(model.state_dict(), f'cnn/epoch{epoch}.pth')"
   ]
  },
  {
   "cell_type": "markdown",
   "source": [
    "## Vision Transformer"
   ],
   "metadata": {
    "id": "xHs7751edIIK"
   },
   "id": "xHs7751edIIK"
  },
  {
   "cell_type": "code",
   "source": [
    "class MyViT(nn.Module):\n",
    "  def __init__(self, patch_kernel, dim, layers, heads, ffn_dim, n_classes):\n",
    "    super(MyViT, self).__init__()\n",
    "\n",
    "    assert 64 % patch_kernel == 0\n",
    "\n",
    "    self.patching = nn.Unfold((patch_kernel, patch_kernel), stride=patch_kernel//2)\n",
    "    self.projection = nn.Linear(patch_kernel ** 2, dim)\n",
    "\n",
    "    self.tag_token = nn.Parameter(torch.zeros(dim))\n",
    "    split_size = 64 // patch_kernel\n",
    "    n_pos_embedding_tokens = (split_size + (split_size -1))**2\n",
    "    self.pos_embedding = nn.Parameter((torch.rand(n_pos_embedding_tokens, dim)) - 0.5)\n",
    "\n",
    "    layer = nn.TransformerEncoderLayer(dim, heads, ffn_dim,\n",
    "                                       batch_first=True, norm_first=True)\n",
    "    self.encoder = nn.TransformerEncoder(layer, num_layers=layers)\n",
    "    self.out_layer = nn.Linear(dim, n_classes)\n",
    "\n",
    "  def forward(self, x):\n",
    "    x = self.patching(x) # [batch : kernel * kernel : tokens]\n",
    "    x = torch.movedim(x, 1, 2)\n",
    "    tokens = self.pos_embedding + self.projection(x) # [batch : tokens : dim]\n",
    "\n",
    "    tag_tokens = torch.stack([self.tag_token] * len(tokens), dim=0)\n",
    "    tag_tokens = torch.unsqueeze(tag_tokens, 1) # [batch : 1 : dim]\n",
    "    tokens = torch.cat([tag_tokens, tokens], 1)\n",
    "\n",
    "    out = self.encoder(tokens)[:, 0]\n",
    "    return self.out_layer(out)\n"
   ],
   "metadata": {
    "id": "cg8S432LdKGt"
   },
   "id": "cg8S432LdKGt",
   "execution_count": null,
   "outputs": []
  },
  {
   "cell_type": "code",
   "source": [
    "vit = MyViT(16, 64, 6, 4, 1024, train_helper.vocabulary.num_classes())"
   ],
   "metadata": {
    "id": "8IhSh6NhqnTn",
    "colab": {
     "base_uri": "https://localhost:8080/"
    },
    "outputId": "a3f5e197-7df4-4741-de3e-28b4c59bde0c"
   },
   "id": "8IhSh6NhqnTn",
   "execution_count": null,
   "outputs": [
    {
     "output_type": "stream",
     "name": "stderr",
     "text": [
      "/opt/conda/lib/python3.10/site-packages/torch/nn/modules/transformer.py:286: UserWarning: enable_nested_tensor is True, but self.use_nested_tensor is False because encoder_layer.norm_first was True\n",
      "  warnings.warn(f\"enable_nested_tensor is True, but self.use_nested_tensor is False because {why_not_sparsity_fast_path}\")\n"
     ]
    }
   ]
  },
  {
   "cell_type": "code",
   "source": [
    "vit.eval()\n",
    "vit(torch.tensor(train_dataset[0][0], dtype=torch.float32).view(1, 1, 64, 64))"
   ],
   "metadata": {
    "colab": {
     "base_uri": "https://localhost:8080/"
    },
    "id": "pl_VJZ1arIUi",
    "outputId": "3d2a746f-ab27-44d3-f7b3-2a7f670529f4"
   },
   "id": "pl_VJZ1arIUi",
   "execution_count": null,
   "outputs": [
    {
     "output_type": "execute_result",
     "data": {
      "text/plain": [
       "tensor([[-0.8958, -0.6806, -0.4136,  ...,  0.8929,  0.9425,  2.3412]],\n",
       "       grad_fn=<AddmmBackward0>)"
      ]
     },
     "metadata": {},
     "execution_count": 16
    }
   ]
  },
  {
   "cell_type": "code",
   "source": [
    "optim = torch.optim.AdamW(vit.parameters(), lr=0.005)\n",
    "loss_fn = torch.nn.CrossEntropyLoss(label_smoothing=0.1)\n",
    "\n",
    "vit.cuda()\n",
    "\n",
    "train_loader = DataLoader(train_dataset, batch_size=512, shuffle=True, drop_last=True, num_workers=8)\n",
    "val_loader = DataLoader(val_dataset, batch_size=1024, shuffle=False, num_workers=8)\n",
    "\n",
    "vit_accuracy = list()\n",
    "\n",
    "for epoch in range(20):\n",
    "    print(f'Epoch {epoch}:')\n",
    "    train_epoch(train_loader, val_loader, vit, optim, loss_fn)\n",
    "    accuracy = run_validation(val_loader, vit)\n",
    "    vit_accuracy.append(accuracy)\n",
    "    print(f'accuracy: {accuracy}')\n",
    "    torch.save(vit.state_dict(), f'vit/epoch{epoch}.pth')"
   ],
   "metadata": {
    "colab": {
     "base_uri": "https://localhost:8080/"
    },
    "id": "jprohkysrOQD",
    "outputId": "a2cbee63-1069-4f29-f6b9-45e9780f756f"
   },
   "id": "jprohkysrOQD",
   "execution_count": null,
   "outputs": [
    {
     "output_type": "stream",
     "name": "stdout",
     "text": [
      "Epoch 0:\n"
     ]
    },
    {
     "output_type": "stream",
     "name": "stderr",
     "text": [
      "100%|███████████████████████████████████████████████████████████████████████████████████████████████████████████████████████████████████████████████████████████████████| 5036/5036 [03:54<00:00, 21.47it/s]\n",
      "100%|█████████████████████████████████████████████████████████████████████████████████████████████████████████████████████████████████████████████████████████████████████| 630/630 [00:36<00:00, 17.48it/s]\n"
     ]
    },
    {
     "output_type": "stream",
     "name": "stdout",
     "text": [
      "accuracy: 0.8554720768714058\n",
      "Epoch 1:\n"
     ]
    },
    {
     "output_type": "stream",
     "name": "stderr",
     "text": [
      "100%|███████████████████████████████████████████████████████████████████████████████████████████████████████████████████████████████████████████████████████████████████| 5036/5036 [03:54<00:00, 21.46it/s]\n",
      "100%|█████████████████████████████████████████████████████████████████████████████████████████████████████████████████████████████████████████████████████████████████████| 630/630 [00:36<00:00, 17.47it/s]\n"
     ]
    },
    {
     "output_type": "stream",
     "name": "stdout",
     "text": [
      "accuracy: 0.8761140474303027\n",
      "Epoch 2:\n"
     ]
    },
    {
     "output_type": "stream",
     "name": "stderr",
     "text": [
      "100%|███████████████████████████████████████████████████████████████████████████████████████████████████████████████████████████████████████████████████████████████████| 5036/5036 [03:54<00:00, 21.45it/s]\n",
      "100%|█████████████████████████████████████████████████████████████████████████████████████████████████████████████████████████████████████████████████████████████████████| 630/630 [00:36<00:00, 17.41it/s]\n"
     ]
    },
    {
     "output_type": "stream",
     "name": "stdout",
     "text": [
      "accuracy: 0.89756270855666\n",
      "Epoch 3:\n"
     ]
    },
    {
     "output_type": "stream",
     "name": "stderr",
     "text": [
      "100%|███████████████████████████████████████████████████████████████████████████████████████████████████████████████████████████████████████████████████████████████████| 5036/5036 [03:54<00:00, 21.45it/s]\n",
      "100%|█████████████████████████████████████████████████████████████████████████████████████████████████████████████████████████████████████████████████████████████████████| 630/630 [00:36<00:00, 17.47it/s]\n"
     ]
    },
    {
     "output_type": "stream",
     "name": "stdout",
     "text": [
      "accuracy: 0.9014689524967848\n",
      "Epoch 4:\n"
     ]
    },
    {
     "output_type": "stream",
     "name": "stderr",
     "text": [
      "100%|███████████████████████████████████████████████████████████████████████████████████████████████████████████████████████████████████████████████████████████████████| 5036/5036 [03:54<00:00, 21.47it/s]\n",
      "100%|█████████████████████████████████████████████████████████████████████████████████████████████████████████████████████████████████████████████████████████████████████| 630/630 [00:36<00:00, 17.47it/s]\n"
     ]
    },
    {
     "output_type": "stream",
     "name": "stdout",
     "text": [
      "accuracy: 0.9048741174882758\n",
      "Epoch 5:\n"
     ]
    },
    {
     "output_type": "stream",
     "name": "stderr",
     "text": [
      "100%|███████████████████████████████████████████████████████████████████████████████████████████████████████████████████████████████████████████████████████████████████| 5036/5036 [03:54<00:00, 21.45it/s]\n",
      "100%|█████████████████████████████████████████████████████████████████████████████████████████████████████████████████████████████████████████████████████████████████████| 630/630 [00:36<00:00, 17.46it/s]\n"
     ]
    },
    {
     "output_type": "stream",
     "name": "stdout",
     "text": [
      "accuracy: 0.9061151798997532\n",
      "Epoch 6:\n"
     ]
    },
    {
     "output_type": "stream",
     "name": "stderr",
     "text": [
      "100%|███████████████████████████████████████████████████████████████████████████████████████████████████████████████████████████████████████████████████████████████████| 5036/5036 [03:54<00:00, 21.45it/s]\n",
      "100%|█████████████████████████████████████████████████████████████████████████████████████████████████████████████████████████████████████████████████████████████████████| 630/630 [00:36<00:00, 17.47it/s]\n"
     ]
    },
    {
     "output_type": "stream",
     "name": "stdout",
     "text": [
      "accuracy: 0.9095141395791868\n",
      "Epoch 7:\n"
     ]
    },
    {
     "output_type": "stream",
     "name": "stderr",
     "text": [
      "100%|███████████████████████████████████████████████████████████████████████████████████████████████████████████████████████████████████████████████████████████████████| 5036/5036 [03:54<00:00, 21.46it/s]\n",
      "100%|█████████████████████████████████████████████████████████████████████████████████████████████████████████████████████████████████████████████████████████████████████| 630/630 [00:36<00:00, 17.38it/s]\n"
     ]
    },
    {
     "output_type": "stream",
     "name": "stdout",
     "text": [
      "accuracy: 0.9073236644229292\n",
      "Epoch 8:\n"
     ]
    },
    {
     "output_type": "stream",
     "name": "stderr",
     "text": [
      "100%|███████████████████████████████████████████████████████████████████████████████████████████████████████████████████████████████████████████████████████████████████| 5036/5036 [03:54<00:00, 21.44it/s]\n",
      "100%|█████████████████████████████████████████████████████████████████████████████████████████████████████████████████████████████████████████████████████████████████████| 630/630 [00:36<00:00, 17.42it/s]\n"
     ]
    },
    {
     "output_type": "stream",
     "name": "stdout",
     "text": [
      "accuracy: 0.9099407547831321\n",
      "Epoch 9:\n"
     ]
    },
    {
     "output_type": "stream",
     "name": "stderr",
     "text": [
      "100%|███████████████████████████████████████████████████████████████████████████████████████████████████████████████████████████████████████████████████████████████████| 5036/5036 [03:54<00:00, 21.46it/s]\n",
      "100%|█████████████████████████████████████████████████████████████████████████████████████████████████████████████████████████████████████████████████████████████████████| 630/630 [00:35<00:00, 17.54it/s]"
     ]
    },
    {
     "output_type": "stream",
     "name": "stdout",
     "text": [
      "accuracy: 0.9073639989513023\n"
     ]
    },
    {
     "output_type": "stream",
     "name": "stderr",
     "text": [
      "\n"
     ]
    }
   ]
  },
  {
   "cell_type": "markdown",
   "source": [
    "# Merging"
   ],
   "metadata": {
    "id": "WZaEs-lxQa_x"
   },
   "id": "WZaEs-lxQa_x"
  },
  {
   "cell_type": "code",
   "source": [
    "class ModelSum(nn.Module):\n",
    "  def __init__(self, model1, model2, gamma):\n",
    "    super().__init__()\n",
    "    self.model1 = model1\n",
    "    self.model2 = model2\n",
    "    self.gamma = gamma\n",
    "\n",
    "  def forward(self, x):\n",
    "    out1 = nn.functional.softmax(self.model1(x), -1)\n",
    "    out2 = nn.functional.softmax(self.model2(x), -1)\n",
    "\n",
    "    return self.gamma * out1 + (1 - self.gamma) * out2"
   ],
   "metadata": {
    "id": "ijz4xMCuQfmL"
   },
   "id": "ijz4xMCuQfmL",
   "execution_count": null,
   "outputs": []
  },
  {
   "cell_type": "code",
   "source": [
    "best_cnn = MyNet(n_classes=train_helper.vocabulary.num_classes())\n",
    "best_vit = MyViT(16, 64, 6, 4, 1024, train_helper.vocabulary.num_classes())\n",
    "\n",
    "cnn_epoch = np.argmax(np.array(cnn_accuracy))\n",
    "vit_epoch = np.argmax(np.array(vit_acuracy))\n",
    "\n",
    "print(f'best cnn epoch = {cnn_epoch}')\n",
    "print(f'best vit epoch = {vit_epoch}')\n",
    "\n",
    "best_cnn.load_state_dict(torch.load(f'cnn/epoch{cnn_epoch}.pth'))\n",
    "best_vit.load_state_dict(torch.load(f'vit/epoch{vit_epoch}.pth'))\n",
    "\n",
    "best_cnn.to('cuda')\n",
    "best_vit.to('cuda')"
   ],
   "metadata": {
    "colab": {
     "base_uri": "https://localhost:8080/"
    },
    "id": "-P6Le-MiTUDf",
    "outputId": "ee3d0750-06d4-44bb-d316-137b8bf22f59"
   },
   "id": "-P6Le-MiTUDf",
   "execution_count": null,
   "outputs": [
    {
     "output_type": "stream",
     "name": "stderr",
     "text": [
      "/opt/conda/lib/python3.10/site-packages/torch/nn/modules/transformer.py:286: UserWarning: enable_nested_tensor is True, but self.use_nested_tensor is False because encoder_layer.norm_first was True\n",
      "  warnings.warn(f\"enable_nested_tensor is True, but self.use_nested_tensor is False because {why_not_sparsity_fast_path}\")\n"
     ]
    },
    {
     "output_type": "execute_result",
     "data": {
      "text/plain": [
       "MyViT(\n",
       "  (patching): Unfold(kernel_size=(16, 16), dilation=1, padding=0, stride=8)\n",
       "  (projection): Linear(in_features=256, out_features=64, bias=True)\n",
       "  (encoder): TransformerEncoder(\n",
       "    (layers): ModuleList(\n",
       "      (0-5): 6 x TransformerEncoderLayer(\n",
       "        (self_attn): MultiheadAttention(\n",
       "          (out_proj): NonDynamicallyQuantizableLinear(in_features=64, out_features=64, bias=True)\n",
       "        )\n",
       "        (linear1): Linear(in_features=64, out_features=1024, bias=True)\n",
       "        (dropout): Dropout(p=0.1, inplace=False)\n",
       "        (linear2): Linear(in_features=1024, out_features=64, bias=True)\n",
       "        (norm1): LayerNorm((64,), eps=1e-05, elementwise_affine=True)\n",
       "        (norm2): LayerNorm((64,), eps=1e-05, elementwise_affine=True)\n",
       "        (dropout1): Dropout(p=0.1, inplace=False)\n",
       "        (dropout2): Dropout(p=0.1, inplace=False)\n",
       "      )\n",
       "    )\n",
       "  )\n",
       "  (out_layer): Linear(in_features=64, out_features=7330, bias=True)\n",
       ")"
      ]
     },
     "metadata": {},
     "execution_count": 61
    }
   ]
  },
  {
   "cell_type": "code",
   "source": [
    "for gamma in torch.tensor(np.linspace(0, 1, 10)):\n",
    "  print(f'gamma = {gamma}')\n",
    "  accuracy = run_validation(val_loader, ModelSum(best_cnn, best_vit, gamma))\n",
    "  print(f'accuracy: {accuracy}')"
   ],
   "metadata": {
    "colab": {
     "base_uri": "https://localhost:8080/",
     "height": 881
    },
    "id": "9Fi5K5E1Q_ya",
    "outputId": "bdec5a56-7ef7-405b-ac6f-23b6b0041888"
   },
   "id": "9Fi5K5E1Q_ya",
   "execution_count": null,
   "outputs": [
    {
     "output_type": "stream",
     "name": "stdout",
     "text": [
      "gamma = 0.0\n"
     ]
    },
    {
     "output_type": "stream",
     "name": "stderr",
     "text": [
      "100%|█████████████████████████████████████████████████████████████████████████████████████████████████████████████████████████████████████████████████████████████████████| 315/315 [00:38<00:00,  8.17it/s]\n"
     ]
    },
    {
     "output_type": "stream",
     "name": "stdout",
     "text": [
      "accuracy: 0.9099407547831321\n",
      "gamma = 0.1111111111111111\n"
     ]
    },
    {
     "output_type": "stream",
     "name": "stderr",
     "text": [
      "100%|█████████████████████████████████████████████████████████████████████████████████████████████████████████████████████████████████████████████████████████████████████| 315/315 [00:38<00:00,  8.18it/s]\n"
     ]
    },
    {
     "output_type": "stream",
     "name": "stdout",
     "text": [
      "accuracy: 0.9150213540301175\n",
      "gamma = 0.2222222222222222\n"
     ]
    },
    {
     "output_type": "stream",
     "name": "stderr",
     "text": [
      "100%|█████████████████████████████████████████████████████████████████████████████████████████████████████████████████████████████████████████████████████████████████████| 315/315 [00:38<00:00,  8.21it/s]\n"
     ]
    },
    {
     "output_type": "stream",
     "name": "stdout",
     "text": [
      "accuracy: 0.9202586374065519\n",
      "gamma = 0.3333333333333333\n"
     ]
    },
    {
     "output_type": "stream",
     "name": "stderr",
     "text": [
      "100%|█████████████████████████████████████████████████████████████████████████████████████████████████████████████████████████████████████████████████████████████████████| 315/315 [00:38<00:00,  8.22it/s]\n"
     ]
    },
    {
     "output_type": "stream",
     "name": "stdout",
     "text": [
      "accuracy: 0.9251685905719591\n",
      "gamma = 0.4444444444444444\n"
     ]
    },
    {
     "output_type": "stream",
     "name": "stderr",
     "text": [
      "100%|█████████████████████████████████████████████████████████████████████████████████████████████████████████████████████████████████████████████████████████████████████| 315/315 [00:38<00:00,  8.21it/s]\n"
     ]
    },
    {
     "output_type": "stream",
     "name": "stdout",
     "text": [
      "accuracy: 0.9295728108046893\n",
      "gamma = 0.5555555555555556\n"
     ]
    },
    {
     "output_type": "stream",
     "name": "stderr",
     "text": [
      "100%|█████████████████████████████████████████████████████████████████████████████████████████████████████████████████████████████████████████████████████████████████████| 315/315 [00:38<00:00,  8.19it/s]\n"
     ]
    },
    {
     "output_type": "stream",
     "name": "stdout",
     "text": [
      "accuracy: 0.9329748731401516\n",
      "gamma = 0.6666666666666666\n"
     ]
    },
    {
     "output_type": "stream",
     "name": "stderr",
     "text": [
      "100%|█████████████████████████████████████████████████████████████████████████████████████████████████████████████████████████████████████████████████████████████████████| 315/315 [00:38<00:00,  8.21it/s]\n"
     ]
    },
    {
     "output_type": "stream",
     "name": "stdout",
     "text": [
      "accuracy: 0.934488969282154\n",
      "gamma = 0.7777777777777777\n"
     ]
    },
    {
     "output_type": "stream",
     "name": "stderr",
     "text": [
      "100%|█████████████████████████████████████████████████████████████████████████████████████████████████████████████████████████████████████████████████████████████████████| 315/315 [00:38<00:00,  8.18it/s]\n"
     ]
    },
    {
     "output_type": "stream",
     "name": "stdout",
     "text": [
      "accuracy: 0.933432514904384\n",
      "gamma = 0.8888888888888888\n"
     ]
    },
    {
     "output_type": "stream",
     "name": "stderr",
     "text": [
      "100%|█████████████████████████████████████████████████████████████████████████████████████████████████████████████████████████████████████████████████████████████████████| 315/315 [00:38<00:00,  8.19it/s]\n"
     ]
    },
    {
     "output_type": "stream",
     "name": "stdout",
     "text": [
      "accuracy: 0.9282743492566812\n",
      "gamma = 1.0\n"
     ]
    },
    {
     "output_type": "stream",
     "name": "stderr",
     "text": [
      "  7%|████████████                                                                                                                                                          | 23/315 [00:03<00:44,  6.54it/s]\n"
     ]
    },
    {
     "output_type": "error",
     "ename": "KeyboardInterrupt",
     "evalue": "",
     "traceback": [
      "\u001B[0;31m---------------------------------------------------------------------------\u001B[0m",
      "\u001B[0;31mKeyboardInterrupt\u001B[0m                         Traceback (most recent call last)",
      "Cell \u001B[0;32mIn[62], line 3\u001B[0m\n\u001B[1;32m      1\u001B[0m \u001B[38;5;28;01mfor\u001B[39;00m gamma \u001B[38;5;129;01min\u001B[39;00m torch\u001B[38;5;241m.\u001B[39mtensor(np\u001B[38;5;241m.\u001B[39mlinspace(\u001B[38;5;241m0\u001B[39m, \u001B[38;5;241m1\u001B[39m, \u001B[38;5;241m10\u001B[39m)):\n\u001B[1;32m      2\u001B[0m   \u001B[38;5;28mprint\u001B[39m(\u001B[38;5;124mf\u001B[39m\u001B[38;5;124m'\u001B[39m\u001B[38;5;124mgamma = \u001B[39m\u001B[38;5;132;01m{\u001B[39;00mgamma\u001B[38;5;132;01m}\u001B[39;00m\u001B[38;5;124m'\u001B[39m)\n\u001B[0;32m----> 3\u001B[0m   accuracy \u001B[38;5;241m=\u001B[39m \u001B[43mrun_validation\u001B[49m\u001B[43m(\u001B[49m\u001B[43mval_loader\u001B[49m\u001B[43m,\u001B[49m\u001B[43m \u001B[49m\u001B[43mModelSum\u001B[49m\u001B[43m(\u001B[49m\u001B[43mbest_cnn\u001B[49m\u001B[43m,\u001B[49m\u001B[43m \u001B[49m\u001B[43mbest_vit\u001B[49m\u001B[43m,\u001B[49m\u001B[43m \u001B[49m\u001B[43mgamma\u001B[49m\u001B[43m)\u001B[49m\u001B[43m)\u001B[49m\n\u001B[1;32m      4\u001B[0m   \u001B[38;5;28mprint\u001B[39m(\u001B[38;5;124mf\u001B[39m\u001B[38;5;124m'\u001B[39m\u001B[38;5;124maccuracy: \u001B[39m\u001B[38;5;132;01m{\u001B[39;00maccuracy\u001B[38;5;132;01m}\u001B[39;00m\u001B[38;5;124m'\u001B[39m)\n",
      "Cell \u001B[0;32mIn[13], line 18\u001B[0m, in \u001B[0;36mrun_validation\u001B[0;34m(val_loader, model, n_steps)\u001B[0m\n\u001B[1;32m     16\u001B[0m     \u001B[38;5;28;01mbreak\u001B[39;00m\n\u001B[1;32m     17\u001B[0m logits \u001B[38;5;241m=\u001B[39m model(X\u001B[38;5;241m.\u001B[39munsqueeze(\u001B[38;5;241m1\u001B[39m)\u001B[38;5;241m.\u001B[39mto(torch\u001B[38;5;241m.\u001B[39mfloat32)\u001B[38;5;241m.\u001B[39mcuda())\n\u001B[0;32m---> 18\u001B[0m classes \u001B[38;5;241m=\u001B[39m \u001B[43mtorch\u001B[49m\u001B[38;5;241;43m.\u001B[39;49m\u001B[43margmax\u001B[49m\u001B[43m(\u001B[49m\u001B[43mlogits\u001B[49m\u001B[43m,\u001B[49m\u001B[43m \u001B[49m\u001B[43mdim\u001B[49m\u001B[38;5;241;43m=\u001B[39;49m\u001B[38;5;241;43m1\u001B[39;49m\u001B[43m)\u001B[49m\u001B[38;5;241;43m.\u001B[39;49m\u001B[43mcpu\u001B[49m\u001B[43m(\u001B[49m\u001B[43m)\u001B[49m\u001B[38;5;241m.\u001B[39mnumpy()\n\u001B[1;32m     19\u001B[0m n_good \u001B[38;5;241m+\u001B[39m\u001B[38;5;241m=\u001B[39m \u001B[38;5;28msum\u001B[39m(classes \u001B[38;5;241m==\u001B[39m y\u001B[38;5;241m.\u001B[39mcpu()\u001B[38;5;241m.\u001B[39mnumpy())\n\u001B[1;32m     20\u001B[0m n_all \u001B[38;5;241m+\u001B[39m\u001B[38;5;241m=\u001B[39m \u001B[38;5;28mlen\u001B[39m(classes)\n",
      "\u001B[0;31mKeyboardInterrupt\u001B[0m: "
     ]
    }
   ]
  },
  {
   "cell_type": "markdown",
   "id": "1de4c7b6",
   "metadata": {
    "id": "1de4c7b6"
   },
   "source": [
    "### Evaluation"
   ]
  },
  {
   "cell_type": "code",
   "execution_count": null,
   "id": "73dd6418",
   "metadata": {
    "id": "73dd6418"
   },
   "outputs": [],
   "source": [
    "pred_path = './pred.txt'\n",
    "\n",
    "test_reader = LMDBReader(test_path)\n",
    "test_reader.open()\n",
    "test_helper = HWDBDatasetHelper(test_reader, prefix='Test')"
   ]
  },
  {
   "cell_type": "code",
   "execution_count": null,
   "id": "71d47be7",
   "metadata": {
    "id": "71d47be7"
   },
   "outputs": [],
   "source": [
    "test_dataset = HWDBDataset(test_helper)\n",
    "test_loader = DataLoader(test_dataset, batch_size=2048, shuffle=False, num_workers=8)"
   ]
  },
  {
   "cell_type": "code",
   "execution_count": null,
   "id": "0304466b",
   "metadata": {
    "id": "0304466b",
    "colab": {
     "base_uri": "https://localhost:8080/"
    },
    "outputId": "8aa1d0fd-2682-4b82-8f04-ca83c6d7c336"
   },
   "outputs": [
    {
     "output_type": "stream",
     "name": "stderr",
     "text": [
      "100%|█████████████████████████████████████████████████████████████████████████████████████████████████████████████████████████████████████████████████████████████████████| 380/380 [00:46<00:00,  8.24it/s]\n"
     ]
    }
   ],
   "source": [
    "preds = []\n",
    "model = ModelSum(best_cnn, best_vit, 0.77)\n",
    "model.eval()\n",
    "with torch.no_grad():\n",
    "    for X, _ in tqdm(test_loader):\n",
    "        logits = model(X.unsqueeze(1).to(torch.float32).cuda())\n",
    "        classes = torch.argmax(logits, dim=1).cpu().numpy()\n",
    "        preds.extend(classes)"
   ]
  },
  {
   "cell_type": "code",
   "execution_count": null,
   "id": "34ee1630",
   "metadata": {
    "id": "34ee1630"
   },
   "outputs": [],
   "source": [
    "with open(pred_path, 'w') as f_pred:\n",
    "    for idx, pred in enumerate(preds):\n",
    "        name = test_helper.namelist[idx]\n",
    "        cls = train_helper.vocabulary.class_by_index(pred)\n",
    "        print(name, cls, file=f_pred)"
   ]
  },
  {
   "cell_type": "code",
   "execution_count": null,
   "id": "bf74d797",
   "metadata": {
    "id": "bf74d797",
    "colab": {
     "base_uri": "https://localhost:8080/"
    },
    "outputId": "47e129f1-62ef-4302-905a-f1b16f711dd3"
   },
   "outputs": [
    {
     "output_type": "execute_result",
     "data": {
      "text/plain": [
       "0.9149812690673682"
      ]
     },
     "metadata": {},
     "execution_count": 68
    }
   ],
   "source": [
    "from course_intro_ocr_t2.evaluate import evaluate\n",
    "\n",
    "evaluate(gt_path, pred_path)"
   ]
  },
  {
   "cell_type": "code",
   "execution_count": null,
   "id": "73f5d06d",
   "metadata": {
    "id": "73f5d06d"
   },
   "outputs": [],
   "source": []
  }
 ],
 "metadata": {
  "accelerator": "GPU",
  "colab": {
   "gpuType": "T4",
   "provenance": []
  },
  "kernelspec": {
   "display_name": "venv",
   "name": "venv"
  }
 },
 "nbformat": 4,
 "nbformat_minor": 5
}
